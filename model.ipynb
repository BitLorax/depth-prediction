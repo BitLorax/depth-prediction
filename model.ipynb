{
  "nbformat": 4,
  "nbformat_minor": 0,
  "metadata": {
    "colab": {
      "name": "model.ipynb",
      "provenance": [],
      "private_outputs": true,
      "toc_visible": true,
      "mount_file_id": "https://github.com/BitLorax/depth-prediction/blob/master/model.ipynb",
      "authorship_tag": "ABX9TyNfnjlUoU/AcDfk0vZzSsk6",
      "include_colab_link": true
    },
    "kernelspec": {
      "name": "python3",
      "display_name": "Python 3"
    }
  },
  "cells": [
    {
      "cell_type": "markdown",
      "metadata": {
        "id": "view-in-github",
        "colab_type": "text"
      },
      "source": [
        "<a href=\"https://colab.research.google.com/github/BitLorax/depth-prediction/blob/master/model.ipynb\" target=\"_parent\"><img src=\"https://colab.research.google.com/assets/colab-badge.svg\" alt=\"Open In Colab\"/></a>"
      ]
    },
    {
      "cell_type": "code",
      "metadata": {
        "id": "jl8q9JtYBmwu",
        "colab_type": "code",
        "colab": {}
      },
      "source": [
        "import tensorflow as tf"
      ],
      "execution_count": 0,
      "outputs": []
    },
    {
      "cell_type": "code",
      "metadata": {
        "id": "y76dbpcY0mzI",
        "colab_type": "code",
        "colab": {}
      },
      "source": [
        "import numpy as np\n",
        "import matplotlib.pyplot as plt\n",
        "from IPython.display import clear_output\n",
        "import os"
      ],
      "execution_count": 0,
      "outputs": []
    },
    {
      "cell_type": "code",
      "metadata": {
        "id": "5v96koBIDnRF",
        "colab_type": "code",
        "colab": {}
      },
      "source": [
        "!pip install -q git+https://github.com/tensorflow/examples.git\n",
        "from tensorflow_examples.models.pix2pix import pix2pix"
      ],
      "execution_count": 0,
      "outputs": []
    },
    {
      "cell_type": "markdown",
      "metadata": {
        "id": "dLpqx7RxINsG",
        "colab_type": "text"
      },
      "source": [
        "# SSH"
      ]
    },
    {
      "cell_type": "code",
      "metadata": {
        "id": "EzFxzwIZHm-F",
        "colab_type": "code",
        "colab": {}
      },
      "source": [
        "!rm -rf /root/.ssh\n",
        "!mkdir /root/.ssh"
      ],
      "execution_count": 0,
      "outputs": []
    },
    {
      "cell_type": "code",
      "metadata": {
        "id": "BsxdjGW9Hs2Q",
        "colab_type": "code",
        "colab": {}
      },
      "source": [
        "!tar xvzf ssh.tar.gz"
      ],
      "execution_count": 0,
      "outputs": []
    },
    {
      "cell_type": "code",
      "metadata": {
        "id": "gtOs_lGoHzrt",
        "colab_type": "code",
        "colab": {}
      },
      "source": [
        "!cp ssh-colab/* /root/.ssh && rm -rf ssh-colab && rm -rf ssh.tar.gz\n",
        "!chmod 700 /root/.ssh"
      ],
      "execution_count": 0,
      "outputs": []
    },
    {
      "cell_type": "code",
      "metadata": {
        "id": "jDZaDEaxIB2s",
        "colab_type": "code",
        "colab": {}
      },
      "source": [
        "!touch /root/.ssh/known_hosts\n",
        "!ssh-keyscan github.com >> /root/.ssh/known_hosts\n",
        "!chmod 644 /root/.ssh/known_hosts"
      ],
      "execution_count": 0,
      "outputs": []
    },
    {
      "cell_type": "markdown",
      "metadata": {
        "id": "y0mtgEpKycRB",
        "colab_type": "text"
      },
      "source": [
        "# Download Data"
      ]
    },
    {
      "cell_type": "code",
      "metadata": {
        "id": "8KGTA11_eWwb",
        "colab_type": "code",
        "colab": {}
      },
      "source": [
        "!git config --global user.email 'willjhliang@gmail.com'\n",
        "!git config --global user.name 'BitLorax'"
      ],
      "execution_count": 0,
      "outputs": []
    },
    {
      "cell_type": "code",
      "metadata": {
        "id": "VfsZfZldWOTC",
        "colab_type": "code",
        "colab": {}
      },
      "source": [
        "!rm -r .git"
      ],
      "execution_count": 0,
      "outputs": []
    },
    {
      "cell_type": "code",
      "metadata": {
        "id": "lNFcY3suU0ev",
        "colab_type": "code",
        "colab": {}
      },
      "source": [
        "!git init\n",
        "!git remote add -f origin git@github.com:BitLorax/depth-prediction.git\n",
        "\n",
        "!git config core.sparseCheckout true\n",
        "!echo 'nyuDepth' >> .git/info/sparse-checkout"
      ],
      "execution_count": 0,
      "outputs": []
    },
    {
      "cell_type": "code",
      "metadata": {
        "id": "oL-euNJ5XVt-",
        "colab_type": "code",
        "colab": {}
      },
      "source": [
        "!git pull origin master"
      ],
      "execution_count": 0,
      "outputs": []
    },
    {
      "cell_type": "markdown",
      "metadata": {
        "id": "-LOhvF6eXkdQ",
        "colab_type": "text"
      },
      "source": [
        "# Load Data"
      ]
    },
    {
      "cell_type": "code",
      "metadata": {
        "id": "g635F2eUY-e7",
        "colab_type": "code",
        "colab": {}
      },
      "source": [
        "temp = np.load('nyuDepth/data0.npz')['images']\n",
        "width = temp.shape[1]\n",
        "height = temp.shape[2]\n",
        "\n",
        "images = np.empty((0, width, height, 3))\n",
        "depths = np.empty((0, width, height))"
      ],
      "execution_count": 0,
      "outputs": []
    },
    {
      "cell_type": "code",
      "metadata": {
        "id": "qyUK0L8kzo53",
        "colab_type": "code",
        "colab": {}
      },
      "source": [
        "LOAD_START = 0\n",
        "LOAD_END = 91\n",
        "\n",
        "for i in range(LOAD_START, LOAD_END, 1):\n",
        "  data = np.load('nyuDepth/data' + str(i) + '.npz')\n",
        "  curImgs = data['images']\n",
        "  curDeps = data['depths']\n",
        "  images = np.concatenate((images, curImgs), axis=0)\n",
        "  depths = np.concatenate((depths, curDeps), axis=0)"
      ],
      "execution_count": 0,
      "outputs": []
    },
    {
      "cell_type": "code",
      "metadata": {
        "id": "cc_Sp0At1Rox",
        "colab_type": "code",
        "colab": {}
      },
      "source": [
        "m = images.shape[0]\n",
        "\n",
        "random = np.arange(m)\n",
        "np.random.shuffle(random)\n",
        "images = images[random]\n",
        "depths = depths[random]"
      ],
      "execution_count": 0,
      "outputs": []
    },
    {
      "cell_type": "code",
      "metadata": {
        "id": "IUWUT2UrXQnJ",
        "colab_type": "code",
        "colab": {}
      },
      "source": [
        "TRAINING_SPLIT = .8\n",
        "idx = (int)(TRAINING_SPLIT * m)\n",
        "imgTrain = images[:idx]\n",
        "depTrain = depths[:idx]\n",
        "imgTest = images[idx:]\n",
        "depTest = depths[idx:]"
      ],
      "execution_count": 0,
      "outputs": []
    },
    {
      "cell_type": "code",
      "metadata": {
        "id": "9BGPo5IrX9bp",
        "colab_type": "code",
        "colab": {}
      },
      "source": [
        "print(images.shape)\n",
        "print(depths.shape)\n",
        "print()\n",
        "print(imgTrain.shape)\n",
        "print(depTrain.shape)\n",
        "print()\n",
        "print(imgTest.shape)\n",
        "print(depTest.shape)"
      ],
      "execution_count": 0,
      "outputs": []
    },
    {
      "cell_type": "code",
      "metadata": {
        "id": "vjwNFTN7ZWDG",
        "colab_type": "code",
        "colab": {}
      },
      "source": [
        "train = tf.data.Dataset.from_tensor_slices((imgTrain, depTrain)).repeat()\n",
        "train = train.prefetch(buffer_size=tf.data.experimental.AUTOTUNE)\n",
        "test = tf.data.Dataset.from_tensor_slices((imgTest, depTest))"
      ],
      "execution_count": 0,
      "outputs": []
    },
    {
      "cell_type": "code",
      "metadata": {
        "id": "4ixj4qAwZdvQ",
        "colab_type": "code",
        "colab": {}
      },
      "source": [
        "BATCH_SIZE = 64\n",
        "SHUFFLE_BUFFER_SIZE = 100\n",
        "\n",
        "train = train.shuffle(SHUFFLE_BUFFER_SIZE).batch(BATCH_SIZE)\n",
        "test = test.batch(BATCH_SIZE)"
      ],
      "execution_count": 0,
      "outputs": []
    },
    {
      "cell_type": "markdown",
      "metadata": {
        "id": "FfWG9_cnyhin",
        "colab_type": "text"
      },
      "source": [
        "# Build Model"
      ]
    },
    {
      "cell_type": "code",
      "metadata": {
        "id": "kbD1wOAazVn0",
        "colab_type": "code",
        "colab": {}
      },
      "source": [
        "vgg16 = tf.keras.applications.VGG16(input_shape=(width, height, 3),\n",
        "                                    include_top=False,\n",
        "                                    weights='imagenet')\n",
        "layerNames = ['block1_conv2',\n",
        "              'block2_conv2',\n",
        "              'block3_conv3',\n",
        "              'block4_conv3',\n",
        "              'block5_conv3'\n",
        "]\n",
        "layers = [vgg16.get_layer(name).output for name in layerNames]\n",
        "downStack = tf.keras.Model(inputs=vgg16.input, outputs=layers)"
      ],
      "execution_count": 0,
      "outputs": []
    },
    {
      "cell_type": "code",
      "metadata": {
        "id": "-EAJAc_Z4ci4",
        "colab_type": "code",
        "colab": {}
      },
      "source": [
        "upStack = [\n",
        "           pix2pix.upsample(512, 3),\n",
        "           pix2pix.upsample(256, 3),\n",
        "           pix2pix.upsample(128, 3),\n",
        "           pix2pix.upsample(64, 3),\n",
        "]"
      ],
      "execution_count": 0,
      "outputs": []
    },
    {
      "cell_type": "code",
      "metadata": {
        "id": "scWGmwPKH9Ma",
        "colab_type": "code",
        "colab": {}
      },
      "source": [
        "def uNet():\n",
        "  inputs = tf.keras.layers.Input(shape=(width, height, 3))\n",
        "  x = inputs\n",
        "\n",
        "  skips = downStack(x)\n",
        "  x = skips[-1]\n",
        "  skips = reversed(skips[:-1])\n",
        "\n",
        "  for up, skip in zip(upStack, skips):\n",
        "    x = up(x)\n",
        "    concat = tf.keras.layers.Concatenate()\n",
        "    x = concat([x, skip])\n",
        "  \n",
        "  last = tf.keras.layers.Conv2D(1, 3, padding='same')\n",
        "  x = last(x)\n",
        "\n",
        "  return tf.keras.Model(inputs=inputs, outputs=x)"
      ],
      "execution_count": 0,
      "outputs": []
    },
    {
      "cell_type": "code",
      "metadata": {
        "id": "fsvQpUkHImvS",
        "colab_type": "code",
        "colab": {}
      },
      "source": [
        "model = uNet()\n",
        "model.compile(optimizer='adam',\n",
        "              loss=tf.keras.losses.Huber())"
      ],
      "execution_count": 0,
      "outputs": []
    },
    {
      "cell_type": "code",
      "metadata": {
        "id": "tQENwJr8lPV2",
        "colab_type": "code",
        "colab": {}
      },
      "source": [
        "tf.keras.utils.plot_model(model, show_shapes=True)"
      ],
      "execution_count": 0,
      "outputs": []
    },
    {
      "cell_type": "markdown",
      "metadata": {
        "id": "ZPUHZuF0nU0S",
        "colab_type": "text"
      },
      "source": [
        "# Train Model"
      ]
    },
    {
      "cell_type": "code",
      "metadata": {
        "id": "9s8lUne0nZBQ",
        "colab_type": "code",
        "colab": {}
      },
      "source": [
        "def display(dList):\n",
        "  plt.figure(figsize=(10, 10))\n",
        "  for i in range(len(dList)):\n",
        "    plt.subplot(1, len(dList), i + 1)\n",
        "    plt.imshow(dList[i])\n",
        "    plt.axis('off')\n",
        "  plt.show()"
      ],
      "execution_count": 0,
      "outputs": []
    },
    {
      "cell_type": "code",
      "metadata": {
        "id": "qpjqlgGVoNfG",
        "colab_type": "code",
        "colab": {}
      },
      "source": [
        "sampleImg, sampleDep = images[0], depths[0]"
      ],
      "execution_count": 0,
      "outputs": []
    },
    {
      "cell_type": "code",
      "metadata": {
        "id": "FntU0ySla5Jh",
        "colab_type": "code",
        "colab": {}
      },
      "source": [
        "def predict():\n",
        "  display([sampleImg.astype('uint8'), sampleDep, model.predict(sampleImg[tf.newaxis, ...])[0, :, :, 0]])"
      ],
      "execution_count": 0,
      "outputs": []
    },
    {
      "cell_type": "code",
      "metadata": {
        "id": "v2MSz4iEbDzA",
        "colab_type": "code",
        "colab": {}
      },
      "source": [
        "predict()"
      ],
      "execution_count": 0,
      "outputs": []
    },
    {
      "cell_type": "code",
      "metadata": {
        "id": "E4x6bJnDnsng",
        "colab_type": "code",
        "colab": {}
      },
      "source": [
        "class DisplayCallback(tf.keras.callbacks.Callback):\n",
        "  def on_epoch_end(self, epoch, logs=None):\n",
        "    clear_output(wait=True)\n",
        "    predict()"
      ],
      "execution_count": 0,
      "outputs": []
    },
    {
      "cell_type": "code",
      "metadata": {
        "id": "Yy8KEe0bTvTi",
        "colab_type": "code",
        "colab": {}
      },
      "source": [
        "if not os.path.exists('./checkpoints'):\n",
        "  os.makedirs('./checkpoints')"
      ],
      "execution_count": 0,
      "outputs": []
    },
    {
      "cell_type": "code",
      "metadata": {
        "id": "q16DohgXa9vq",
        "colab_type": "code",
        "colab": {}
      },
      "source": [
        "checkpointCallback = tf.keras.callbacks.ModelCheckpoint('./checkpoints/ckpt{epoch:02d}-{val_loss:2f}.hdf5',\n",
        "                                     monitor='val_loss',\n",
        "                                     mode='min',\n",
        "                                     verbose=1,\n",
        "                                     save_freq='epoch')"
      ],
      "execution_count": 0,
      "outputs": []
    },
    {
      "cell_type": "code",
      "metadata": {
        "id": "FZ0KI-fCpjVX",
        "colab_type": "code",
        "colab": {}
      },
      "source": [
        "EPOCHS = 50\n",
        "STEPS_PER_EPOCH = (imgTrain.shape[0] / BATCH_SIZE)\n",
        "VAL_STEPS = (imgTest.shape[0] / BATCH_SIZE)\n",
        "hist = model.fit(train,\n",
        "                 epochs=EPOCHS,\n",
        "                 steps_per_epoch = STEPS_PER_EPOCH,\n",
        "                 validation_steps=VAL_STEPS,\n",
        "                 validation_data=test,\n",
        "                 callbacks=[DisplayCallback(), checkpointCallback])"
      ],
      "execution_count": 0,
      "outputs": []
    },
    {
      "cell_type": "markdown",
      "metadata": {
        "id": "3OBzKZX3e843",
        "colab_type": "text"
      },
      "source": [
        "# Push Changes"
      ]
    },
    {
      "cell_type": "code",
      "metadata": {
        "id": "hR3LEO6paS0p",
        "colab_type": "code",
        "colab": {}
      },
      "source": [
        "!git status"
      ],
      "execution_count": 0,
      "outputs": []
    },
    {
      "cell_type": "code",
      "metadata": {
        "id": "q39yypKMdxHV",
        "colab_type": "code",
        "colab": {}
      },
      "source": [
        "!git add checkpoints\n",
        "!git commit -m \"Updated checkpoints\"\n",
        "!git push --set-upstream origin master"
      ],
      "execution_count": 0,
      "outputs": []
    },
    {
      "cell_type": "code",
      "metadata": {
        "id": "2oASI__JdQPL",
        "colab_type": "code",
        "colab": {}
      },
      "source": [
        "!git add checkpoints/ckpt50-0.402291.hdf5"
      ],
      "execution_count": 0,
      "outputs": []
    },
    {
      "cell_type": "code",
      "metadata": {
        "id": "5PkGYj1pdoDU",
        "colab_type": "code",
        "colab": {}
      },
      "source": [
        "!git push --set-upstream origin master"
      ],
      "execution_count": 0,
      "outputs": []
    },
    {
      "cell_type": "code",
      "metadata": {
        "id": "e1dMUX5IeYlD",
        "colab_type": "code",
        "colab": {}
      },
      "source": [
        "!mv checkpoints/ckpt50-0.402291.hdf5 'drive/My Drive'"
      ],
      "execution_count": 0,
      "outputs": []
    }
  ]
}