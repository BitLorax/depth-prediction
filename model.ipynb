{
  "nbformat": 4,
  "nbformat_minor": 0,
  "metadata": {
    "colab": {
      "name": "model.ipynb",
      "provenance": [],
      "private_outputs": true,
      "toc_visible": true,
      "mount_file_id": "https://github.com/BitLorax/depth-prediction/blob/master/model.ipynb",
      "authorship_tag": "ABX9TyO9/EiWYZTd4Vkal3qVhuW+",
      "include_colab_link": true
    },
    "kernelspec": {
      "name": "python3",
      "display_name": "Python 3"
    },
    "accelerator": "GPU"
  },
  "cells": [
    {
      "cell_type": "markdown",
      "metadata": {
        "id": "view-in-github",
        "colab_type": "text"
      },
      "source": [
        "<a href=\"https://colab.research.google.com/github/BitLorax/depth-prediction/blob/master/model.ipynb\" target=\"_parent\"><img src=\"https://colab.research.google.com/assets/colab-badge.svg\" alt=\"Open In Colab\"/></a>"
      ]
    },
    {
      "cell_type": "code",
      "metadata": {
        "id": "jl8q9JtYBmwu",
        "colab_type": "code",
        "colab": {}
      },
      "source": [
        "import tensorflow as tf"
      ],
      "execution_count": 0,
      "outputs": []
    },
    {
      "cell_type": "code",
      "metadata": {
        "id": "y76dbpcY0mzI",
        "colab_type": "code",
        "colab": {}
      },
      "source": [
        "import numpy as np\n",
        "import matplotlib.pyplot as plt\n",
        "from IPython.display import clear_output\n",
        "import os\n",
        "import random"
      ],
      "execution_count": 0,
      "outputs": []
    },
    {
      "cell_type": "code",
      "metadata": {
        "id": "5v96koBIDnRF",
        "colab_type": "code",
        "colab": {}
      },
      "source": [
        "!pip install -q git+https://github.com/tensorflow/examples.git\n",
        "from tensorflow_examples.models.pix2pix import pix2pix"
      ],
      "execution_count": 0,
      "outputs": []
    },
    {
      "cell_type": "markdown",
      "metadata": {
        "id": "dLpqx7RxINsG",
        "colab_type": "text"
      },
      "source": [
        "# SSH"
      ]
    },
    {
      "cell_type": "code",
      "metadata": {
        "id": "EzFxzwIZHm-F",
        "colab_type": "code",
        "colab": {}
      },
      "source": [
        "!rm -rf /root/.ssh\n",
        "!mkdir /root/.ssh"
      ],
      "execution_count": 0,
      "outputs": []
    },
    {
      "cell_type": "code",
      "metadata": {
        "id": "BsxdjGW9Hs2Q",
        "colab_type": "code",
        "colab": {}
      },
      "source": [
        "!tar xvzf ssh.tar.gz"
      ],
      "execution_count": 0,
      "outputs": []
    },
    {
      "cell_type": "code",
      "metadata": {
        "id": "gtOs_lGoHzrt",
        "colab_type": "code",
        "colab": {}
      },
      "source": [
        "!cp ssh-colab/* /root/.ssh && rm -rf ssh-colab && rm -rf ssh.tar.gz\n",
        "!chmod 700 /root/.ssh"
      ],
      "execution_count": 0,
      "outputs": []
    },
    {
      "cell_type": "code",
      "metadata": {
        "id": "jDZaDEaxIB2s",
        "colab_type": "code",
        "colab": {}
      },
      "source": [
        "!touch /root/.ssh/known_hosts\n",
        "!ssh-keyscan github.com >> /root/.ssh/known_hosts\n",
        "!chmod 644 /root/.ssh/known_hosts"
      ],
      "execution_count": 0,
      "outputs": []
    },
    {
      "cell_type": "markdown",
      "metadata": {
        "id": "y0mtgEpKycRB",
        "colab_type": "text"
      },
      "source": [
        "# Download Data"
      ]
    },
    {
      "cell_type": "code",
      "metadata": {
        "id": "8KGTA11_eWwb",
        "colab_type": "code",
        "colab": {}
      },
      "source": [
        "!git config --global user.email 'willjhliang@gmail.com'\n",
        "!git config --global user.name 'BitLorax'"
      ],
      "execution_count": 0,
      "outputs": []
    },
    {
      "cell_type": "code",
      "metadata": {
        "id": "VfsZfZldWOTC",
        "colab_type": "code",
        "colab": {}
      },
      "source": [
        "!rm -r .git"
      ],
      "execution_count": 0,
      "outputs": []
    },
    {
      "cell_type": "code",
      "metadata": {
        "id": "lNFcY3suU0ev",
        "colab_type": "code",
        "colab": {}
      },
      "source": [
        "!git init\n",
        "!git remote add -f origin git@github.com:BitLorax/depth-prediction.git\n",
        "\n",
        "!git config core.sparseCheckout true\n",
        "!echo 'nyuDepth' >> .git/info/sparse-checkout"
      ],
      "execution_count": 0,
      "outputs": []
    },
    {
      "cell_type": "code",
      "metadata": {
        "id": "oL-euNJ5XVt-",
        "colab_type": "code",
        "colab": {}
      },
      "source": [
        "!git pull origin master"
      ],
      "execution_count": 0,
      "outputs": []
    },
    {
      "cell_type": "markdown",
      "metadata": {
        "id": "oUtjWtfaz9wI",
        "colab_type": "text"
      },
      "source": [
        "# Data Generator"
      ]
    },
    {
      "cell_type": "code",
      "metadata": {
        "id": "HQ-Al26K35Ab",
        "colab_type": "code",
        "colab": {}
      },
      "source": [
        "M = 1449\n",
        "TRAIN_SPLIT = .9\n",
        "m = (int)(M * TRAIN_SPLIT)\n",
        "\n",
        "BATCH_SIZE = 16\n",
        "\n",
        "width, height = 128, 128"
      ],
      "execution_count": 0,
      "outputs": []
    },
    {
      "cell_type": "code",
      "metadata": {
        "id": "JEj173H50C9H",
        "colab_type": "code",
        "colab": {}
      },
      "source": [
        "class DataGenerator(tf.keras.utils.Sequence):\n",
        "  def __init__(self, listIDs, batchSize, dim, nChannels):\n",
        "    self.list_IDs = listIDs\n",
        "    self.batch_size = batchSize\n",
        "    self.dim = dim\n",
        "    self.n_channels = nChannels\n",
        "\n",
        "\n",
        "  def on_epoch_end(self):\n",
        "    np.random.shuffle(self.list_IDs)\n",
        "\n",
        "  \n",
        "  def __len__(self):\n",
        "    return int(np.floor(len(self.list_IDs) / self.batch_size))\n",
        "\n",
        "\n",
        "  def __getitem__(self, idx):\n",
        "    curIDs = self.list_IDs[idx*self.batch_size:(idx + 1)*self.batch_size]\n",
        "\n",
        "    X = np.empty((self.batch_size, *self.dim, self.n_channels))\n",
        "    y = np.empty((self.batch_size, *self.dim))\n",
        "\n",
        "    for i, ID in enumerate(curIDs):\n",
        "      img = np.load('nyuDepth/img' + str(ID) + '.npy')\n",
        "      dep = np.load('nyuDepth/dep' + str(ID) + '.npy')\n",
        "\n",
        "      # take out white border\n",
        "      border = 4\n",
        "      img = img[border:img.shape[0] - border, border:img.shape[1] - border]\n",
        "      dep = dep[border:dep.shape[0] - border, border:dep.shape[1] - border]\n",
        "\n",
        "      # get random subsection of size 128 x 128\n",
        "      kx = random.randrange(0, img.shape[0] - width)\n",
        "      ky = random.randrange(0, img.shape[1] - height)\n",
        "      X[i,] = img[kx:kx + width][ky:ky + height]\n",
        "      y[i,] = dep[kx:kx + width][ky:ky + height]\n",
        "\n",
        "      # flip image horizontally\n",
        "      if random.random() > .5:\n",
        "        X[i,] = np.flip(X[i,], 1)\n",
        "        y[i,] = np.flip(y[i,], 1)\n",
        "\n",
        "    return X, y"
      ],
      "execution_count": 0,
      "outputs": []
    },
    {
      "cell_type": "code",
      "metadata": {
        "id": "ecu4b1UJ3O_t",
        "colab_type": "code",
        "colab": {}
      },
      "source": [
        "trainGen = DataGenerator(np.arange(0, m), BATCH_SIZE, (128, 128), 3)\n",
        "valGen = DataGenerator(np.arange(m, M), BATCH_SIZE, (128, 128), 3)"
      ],
      "execution_count": 0,
      "outputs": []
    },
    {
      "cell_type": "markdown",
      "metadata": {
        "id": "-LOhvF6eXkdQ",
        "colab_type": "text"
      },
      "source": [
        "## Load Data (Backup)\n",
        "Use in case Data Generator breaks"
      ]
    },
    {
      "cell_type": "code",
      "metadata": {
        "id": "g635F2eUY-e7",
        "colab_type": "code",
        "colab": {}
      },
      "source": [
        "temp = np.load('nyuDepth/data0.npz')['images']\n",
        "width = temp.shape[1]\n",
        "height = temp.shape[2]\n",
        "\n",
        "images = np.empty((0, width, height, 3))\n",
        "depths = np.empty((0, width, height))"
      ],
      "execution_count": 0,
      "outputs": []
    },
    {
      "cell_type": "code",
      "metadata": {
        "id": "qyUK0L8kzo53",
        "colab_type": "code",
        "colab": {}
      },
      "source": [
        "LOAD_START = 0\n",
        "LOAD_END = 108\n",
        "\n",
        "for i in range(LOAD_START, LOAD_END, 1):\n",
        "  data = np.load('nyuDepth/data' + str(i) + '.npz')\n",
        "  curImgs = data['images']\n",
        "  curDeps = data['depths']\n",
        "  images = np.concatenate((images, curImgs), axis=0)\n",
        "  depths = np.concatenate((depths, curDeps), axis=0)"
      ],
      "execution_count": 0,
      "outputs": []
    },
    {
      "cell_type": "code",
      "metadata": {
        "id": "IUWUT2UrXQnJ",
        "colab_type": "code",
        "colab": {}
      },
      "source": [
        "m = images.shape[0]\n",
        "\n",
        "TRAINING_SPLIT = .9\n",
        "idx = (int)(TRAINING_SPLIT * m)\n",
        "imgTrain = images[:idx]\n",
        "depTrain = depths[:idx]\n",
        "imgTest = images[idx:]\n",
        "depTest = depths[idx:]"
      ],
      "execution_count": 0,
      "outputs": []
    },
    {
      "cell_type": "code",
      "metadata": {
        "id": "cc_Sp0At1Rox",
        "colab_type": "code",
        "colab": {}
      },
      "source": [
        "def shuffle(images, depths):\n",
        "  random = np.arange(images.shape[0])\n",
        "  np.random.shuffle(random)\n",
        "  images = images[random]\n",
        "  depths = depths[random]\n",
        "  return images, depths"
      ],
      "execution_count": 0,
      "outputs": []
    },
    {
      "cell_type": "code",
      "metadata": {
        "id": "i31ewb4xlugn",
        "colab_type": "code",
        "colab": {}
      },
      "source": [
        "imgTrain, depTrain = shuffle(imgTrain, depTrain)\n",
        "imgTest, depTest = shuffle(imgTest, depTest)"
      ],
      "execution_count": 0,
      "outputs": []
    },
    {
      "cell_type": "code",
      "metadata": {
        "id": "9BGPo5IrX9bp",
        "colab_type": "code",
        "colab": {}
      },
      "source": [
        "print(images.shape)\n",
        "print(depths.shape)\n",
        "print()\n",
        "print(imgTrain.shape)\n",
        "print(depTrain.shape)\n",
        "print()\n",
        "print(imgTest.shape)\n",
        "print(depTest.shape)"
      ],
      "execution_count": 0,
      "outputs": []
    },
    {
      "cell_type": "code",
      "metadata": {
        "id": "vjwNFTN7ZWDG",
        "colab_type": "code",
        "colab": {}
      },
      "source": [
        "train = tf.data.Dataset.from_tensor_slices((imgTrain, depTrain)).repeat()\n",
        "train = train.prefetch(buffer_size=tf.data.experimental.AUTOTUNE)\n",
        "test = tf.data.Dataset.from_tensor_slices((imgTest, depTest))"
      ],
      "execution_count": 0,
      "outputs": []
    },
    {
      "cell_type": "code",
      "metadata": {
        "id": "4ixj4qAwZdvQ",
        "colab_type": "code",
        "colab": {}
      },
      "source": [
        "BATCH_SIZE = 64\n",
        "SHUFFLE_BUFFER_SIZE = 100\n",
        "\n",
        "train = train.shuffle(SHUFFLE_BUFFER_SIZE).batch(BATCH_SIZE)\n",
        "test = test.batch(BATCH_SIZE)"
      ],
      "execution_count": 0,
      "outputs": []
    },
    {
      "cell_type": "markdown",
      "metadata": {
        "id": "FfWG9_cnyhin",
        "colab_type": "text"
      },
      "source": [
        "# Build Model"
      ]
    },
    {
      "cell_type": "code",
      "metadata": {
        "id": "iuuNpyOqARzK",
        "colab_type": "code",
        "colab": {}
      },
      "source": [
        "vgg16 = tf.keras.applications.VGG16(input_shape=(width, height, 3),\n",
        "                                    include_top=False,\n",
        "                                    weights='imagenet')\n",
        "\n",
        "xIn = tf.keras.Input(shape=(width, height, 3))\n",
        "\n",
        "# block 1    128 x 128 x 3 -> 64 x 64 x 64\n",
        "x = tf.keras.layers.Conv2D(64, 3, padding='same', activation='relu', name='block1_conv1')(xIn)\n",
        "out1 = tf.keras.layers.Conv2D(64, 3, padding='same', activation='relu', name='block1_conv2')\n",
        "x = out1(x)\n",
        "x = tf.keras.layers.MaxPool2D(name='block1_pool')(x)\n",
        "#x = tf.keras.layers.BatchNormalization(name='block1_bn')(x)\n",
        "\n",
        "# block 2    64 x 64 x 64 -> 32 x 32 x 128\n",
        "x = tf.keras.layers.Conv2D(128, 3, padding='same', activation='relu', name='block2_conv1')(x)\n",
        "out2 = tf.keras.layers.Conv2D(128, 3, padding='same', activation='relu', name='block2_conv2')\n",
        "x = out2(x)\n",
        "x = tf.keras.layers.MaxPool2D(name='block2_pool')(x)\n",
        "#x = tf.keras.layers.BatchNormalization(name='block2_bn')(x)\n",
        "\n",
        "# block 3    32 x 32 x 128 -> 16 x 16 x 256\n",
        "x = tf.keras.layers.Conv2D(256, 3, padding='same', activation='relu', name='block3_conv1')(x)\n",
        "x = tf.keras.layers.Conv2D(256, 3, padding='same', activation='relu', name='block3_conv2')(x)\n",
        "out3 = tf.keras.layers.Conv2D(256, 3, padding='same', activation='relu', name='block3_conv3')\n",
        "x = out3(x)\n",
        "x = tf.keras.layers.MaxPool2D(name='block3_pool')(x)\n",
        "#x = tf.keras.layers.BatchNormalization(name='block3_bn')(x)\n",
        "\n",
        "# block 4    16 x 16 x 256 -> 8 x 8 x 512\n",
        "x = tf.keras.layers.Conv2D(512, 3, padding='same', activation='relu', name='block4_conv1')(x)\n",
        "x = tf.keras.layers.Conv2D(512, 3, padding='same', activation='relu', name='block4_conv2')(x)\n",
        "out4 = tf.keras.layers.Conv2D(512, 3, padding='same', activation='relu', name='block4_conv3')\n",
        "x = out4(x)\n",
        "x = tf.keras.layers.MaxPool2D(name='block4_pool')(x)\n",
        "#x = tf.keras.layers.BatchNormalization(name='block4_bn')(x)\n",
        "\n",
        "# block 5    8 x 8 x 512 -> 4 x 4 x 512\n",
        "x = tf.keras.layers.Conv2D(512, 3, padding='same', activation='relu', name='block5_conv1')(x)\n",
        "x = tf.keras.layers.Conv2D(512, 3, padding='same', activation='relu', name='block5_conv2')(x)\n",
        "out5 = tf.keras.layers.Conv2D(512, 3, padding='same', activation='relu', name='block5_conv3')\n",
        "x = out5(x)\n",
        "x = tf.keras.layers.MaxPool2D(name='block5_pool')(x)\n",
        "#x = tf.keras.layers.BatchNormalization(name='block5_bn')(x)\n",
        "downStack = tf.keras.Model(inputs=xIn, outputs=[out1.output, out2.output,\n",
        "                                                out3.output, out4.output,\n",
        "                                                out5.output, x])\n",
        "\n",
        "# load weights from imagenet\n",
        "layerNames = [layer.name for layer in downStack.layers]\n",
        "vggLayerNames = [layer.name for layer in vgg16.layers]\n",
        "vggLayerNames.pop(0)\n",
        "\n",
        "for i, name in enumerate(vggLayerNames):\n",
        "  downStack.layers[layerNames.index(name)].set_weights(vgg16.layers[i + 1].get_weights())\n",
        "  print('Loaded weights for ' + name)"
      ],
      "execution_count": 0,
      "outputs": []
    },
    {
      "cell_type": "code",
      "metadata": {
        "id": "-EAJAc_Z4ci4",
        "colab_type": "code",
        "colab": {}
      },
      "source": [
        "upFilterSizes = [512, 512, 256, 128, 64]\n",
        "upSamples = [pix2pix.upsample(filterSize, 3) for filterSize in upFilterSizes]"
      ],
      "execution_count": 0,
      "outputs": []
    },
    {
      "cell_type": "code",
      "metadata": {
        "id": "scWGmwPKH9Ma",
        "colab_type": "code",
        "colab": {}
      },
      "source": [
        "def uNet():\n",
        "  inputs = tf.keras.layers.Input(shape=(width, height, 3))\n",
        "  x = inputs\n",
        "\n",
        "  skips = downStack(x)\n",
        "  x = skips[-1]\n",
        "  skips = reversed(skips[:-1])\n",
        "\n",
        "  for up, skip, filterSize in zip(upSamples, skips, upFilterSizes):\n",
        "    x = up(x)\n",
        "    x = tf.keras.layers.Concatenate()([x, skip])\n",
        "    x = tf.keras.layers.Conv2D(filterSize, 3, padding='same', activation='relu')(x)\n",
        "  \n",
        "  last = tf.keras.layers.Conv2D(1, 3, padding='same')\n",
        "  x = last(x)\n",
        "\n",
        "  return tf.keras.Model(inputs=inputs, outputs=x)"
      ],
      "execution_count": 0,
      "outputs": []
    },
    {
      "cell_type": "code",
      "metadata": {
        "id": "fsvQpUkHImvS",
        "colab_type": "code",
        "colab": {}
      },
      "source": [
        "model = uNet()\n",
        "model.compile(optimizer='adam',\n",
        "              loss=tf.keras.losses.Huber())"
      ],
      "execution_count": 0,
      "outputs": []
    },
    {
      "cell_type": "code",
      "metadata": {
        "id": "tQENwJr8lPV2",
        "colab_type": "code",
        "colab": {}
      },
      "source": [
        "tf.keras.utils.plot_model(model, show_shapes=True)"
      ],
      "execution_count": 0,
      "outputs": []
    },
    {
      "cell_type": "markdown",
      "metadata": {
        "id": "VE6ZF-cFTLnK",
        "colab_type": "text"
      },
      "source": [
        "# Load Weights"
      ]
    },
    {
      "cell_type": "code",
      "metadata": {
        "id": "wCGeeMibTm58",
        "colab_type": "code",
        "colab": {}
      },
      "source": [
        "model.load_weights('checkpoints/ckpt-43-0.375119.h5')"
      ],
      "execution_count": 0,
      "outputs": []
    },
    {
      "cell_type": "markdown",
      "metadata": {
        "id": "ZPUHZuF0nU0S",
        "colab_type": "text"
      },
      "source": [
        "# Train Model"
      ]
    },
    {
      "cell_type": "code",
      "metadata": {
        "id": "9s8lUne0nZBQ",
        "colab_type": "code",
        "colab": {}
      },
      "source": [
        "def display(dList):\n",
        "  fig = plt.figure(figsize=(10, 10))\n",
        "  for i in range(len(dList)):\n",
        "    plt.subplot(1, len(dList), i + 1)\n",
        "    plt.imshow(dList[i])\n",
        "    plt.axis('off')\n",
        "  plt.show()\n",
        "  return fig"
      ],
      "execution_count": 0,
      "outputs": []
    },
    {
      "cell_type": "code",
      "metadata": {
        "id": "qpjqlgGVoNfG",
        "colab_type": "code",
        "colab": {}
      },
      "source": [
        "sampleImg = np.load('nyuDepth/img' + (str)(m) + '.npy')[border:border + width][border:border + height]\n",
        "sampleDep = np.load('nyuDepth/dep' + (str)(m) + '.npy')[border:border + width][border:border + height]"
      ],
      "execution_count": 0,
      "outputs": []
    },
    {
      "cell_type": "code",
      "metadata": {
        "id": "FntU0ySla5Jh",
        "colab_type": "code",
        "colab": {}
      },
      "source": [
        "def predict():\n",
        "  return display([sampleImg.astype('uint8'), sampleDep,\n",
        "                  model.predict(sampleImg[tf.newaxis, ...])[0, :, :, 0]])"
      ],
      "execution_count": 0,
      "outputs": []
    },
    {
      "cell_type": "code",
      "metadata": {
        "id": "v2MSz4iEbDzA",
        "colab_type": "code",
        "colab": {}
      },
      "source": [
        "predict()"
      ],
      "execution_count": 0,
      "outputs": []
    },
    {
      "cell_type": "code",
      "metadata": {
        "id": "E4x6bJnDnsng",
        "colab_type": "code",
        "colab": {}
      },
      "source": [
        "class DisplayCallback(tf.keras.callbacks.Callback):\n",
        "  def on_epoch_end(self, epoch, logs=None):\n",
        "    clear_output(wait=True)\n",
        "    predict()"
      ],
      "execution_count": 0,
      "outputs": []
    },
    {
      "cell_type": "code",
      "metadata": {
        "id": "Yy8KEe0bTvTi",
        "colab_type": "code",
        "colab": {}
      },
      "source": [
        "if not os.path.exists('./checkpoints'):\n",
        "  os.makedirs('./checkpoints')"
      ],
      "execution_count": 0,
      "outputs": []
    },
    {
      "cell_type": "code",
      "metadata": {
        "id": "q16DohgXa9vq",
        "colab_type": "code",
        "colab": {}
      },
      "source": [
        "checkpointCallback = tf.keras.callbacks.ModelCheckpoint('./checkpoints/ckpt.h5',\n",
        "                                     monitor='val_loss',\n",
        "                                     mode='min',\n",
        "                                     verbose=1,\n",
        "                                     save_freq='epoch',\n",
        "                                     save_weights_only=True,\n",
        "                                     save_best_only=True)"
      ],
      "execution_count": 0,
      "outputs": []
    },
    {
      "cell_type": "code",
      "metadata": {
        "id": "FZ0KI-fCpjVX",
        "colab_type": "code",
        "colab": {}
      },
      "source": [
        "EPOCHS = 120\n",
        "STEPS_PER_EPOCH = (m / BATCH_SIZE) - 1\n",
        "VAL_STEPS = ((M - m) / BATCH_SIZE) - 1\n",
        "hist = model.fit(trainGen,\n",
        "                 epochs=EPOCHS,\n",
        "                 steps_per_epoch = STEPS_PER_EPOCH,\n",
        "                 validation_steps=VAL_STEPS,\n",
        "                 validation_data=valGen,\n",
        "                 callbacks=[DisplayCallback(), checkpointCallback])"
      ],
      "execution_count": 0,
      "outputs": []
    },
    {
      "cell_type": "code",
      "metadata": {
        "id": "0P_DJ_vv_fmT",
        "colab_type": "code",
        "colab": {}
      },
      "source": [
        "pred = [sampleImg.astype('uint8'), sampleDep, model.predict(sampleImg[tf.newaxis, ...])[0, :, :, 0]]\n",
        "fig = display(pred)\n",
        "fig.savefig('result.png')"
      ],
      "execution_count": 0,
      "outputs": []
    },
    {
      "cell_type": "markdown",
      "metadata": {
        "id": "3OBzKZX3e843",
        "colab_type": "text"
      },
      "source": [
        "# Push Changes"
      ]
    },
    {
      "cell_type": "code",
      "metadata": {
        "id": "I6RzKk96vkGu",
        "colab_type": "code",
        "colab": {}
      },
      "source": [
        "!ls -t1 checkpoints | head -n 1"
      ],
      "execution_count": 0,
      "outputs": []
    },
    {
      "cell_type": "code",
      "metadata": {
        "id": "q39yypKMdxHV",
        "colab_type": "code",
        "colab": {}
      },
      "source": [
        "!git add checkpoints/ckpt-06-0.248222.h5\n",
        "!git add result.png\n",
        "!git commit -m \"Checkpoint after 120 epochs\"\n",
        "!git push --set-upstream origin master"
      ],
      "execution_count": 0,
      "outputs": []
    }
  ]
}