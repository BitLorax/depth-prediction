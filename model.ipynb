{
  "nbformat": 4,
  "nbformat_minor": 0,
  "metadata": {
    "colab": {
      "name": "model.ipynb",
      "provenance": [],
      "private_outputs": true,
      "toc_visible": true,
      "mount_file_id": "https://github.com/BitLorax/depth-prediction/blob/master/model.ipynb",
      "authorship_tag": "ABX9TyPadKUazIalIJOWiNPcl0AJ",
      "include_colab_link": true
    },
    "kernelspec": {
      "name": "python3",
      "display_name": "Python 3"
    },
    "accelerator": "GPU"
  },
  "cells": [
    {
      "cell_type": "markdown",
      "metadata": {
        "id": "view-in-github",
        "colab_type": "text"
      },
      "source": [
        "<a href=\"https://colab.research.google.com/github/BitLorax/depth-prediction/blob/master/model.ipynb\" target=\"_parent\"><img src=\"https://colab.research.google.com/assets/colab-badge.svg\" alt=\"Open In Colab\"/></a>"
      ]
    },
    {
      "cell_type": "code",
      "metadata": {
        "id": "jl8q9JtYBmwu",
        "colab_type": "code",
        "colab": {}
      },
      "source": [
        "import tensorflow as tf"
      ],
      "execution_count": null,
      "outputs": []
    },
    {
      "cell_type": "code",
      "metadata": {
        "id": "y76dbpcY0mzI",
        "colab_type": "code",
        "colab": {}
      },
      "source": [
        "import numpy as np\n",
        "import matplotlib.pyplot as plt\n",
        "from IPython.display import clear_output\n",
        "import os\n",
        "import random\n",
        "import cv2\n",
        "import datetime\n",
        "from mpl_toolkits.axes_grid1 import make_axes_locatable\n",
        "\n",
        "%load_ext tensorboard"
      ],
      "execution_count": null,
      "outputs": []
    },
    {
      "cell_type": "markdown",
      "metadata": {
        "id": "dLpqx7RxINsG",
        "colab_type": "text"
      },
      "source": [
        "# SSH"
      ]
    },
    {
      "cell_type": "code",
      "metadata": {
        "id": "EzFxzwIZHm-F",
        "colab_type": "code",
        "colab": {}
      },
      "source": [
        "!rm -rf /root/.ssh\n",
        "!mkdir /root/.ssh"
      ],
      "execution_count": null,
      "outputs": []
    },
    {
      "cell_type": "code",
      "metadata": {
        "id": "BsxdjGW9Hs2Q",
        "colab_type": "code",
        "colab": {}
      },
      "source": [
        "!tar xvzf ssh.tar.gz"
      ],
      "execution_count": null,
      "outputs": []
    },
    {
      "cell_type": "code",
      "metadata": {
        "id": "gtOs_lGoHzrt",
        "colab_type": "code",
        "colab": {}
      },
      "source": [
        "!cp ssh-colab/* /root/.ssh && rm -rf ssh-colab && rm -rf ssh.tar.gz\n",
        "!chmod 700 /root/.ssh"
      ],
      "execution_count": null,
      "outputs": []
    },
    {
      "cell_type": "code",
      "metadata": {
        "id": "jDZaDEaxIB2s",
        "colab_type": "code",
        "colab": {}
      },
      "source": [
        "!touch /root/.ssh/known_hosts\n",
        "!ssh-keyscan github.com >> /root/.ssh/known_hosts\n",
        "!chmod 644 /root/.ssh/known_hosts"
      ],
      "execution_count": null,
      "outputs": []
    },
    {
      "cell_type": "markdown",
      "metadata": {
        "id": "y0mtgEpKycRB",
        "colab_type": "text"
      },
      "source": [
        "# Download Data"
      ]
    },
    {
      "cell_type": "code",
      "metadata": {
        "id": "8KGTA11_eWwb",
        "colab_type": "code",
        "colab": {}
      },
      "source": [
        "!git config --global user.email 'willjhliang@gmail.com'\n",
        "!git config --global user.name 'BitLorax'"
      ],
      "execution_count": null,
      "outputs": []
    },
    {
      "cell_type": "code",
      "metadata": {
        "id": "VfsZfZldWOTC",
        "colab_type": "code",
        "colab": {}
      },
      "source": [
        "!rm -r .git"
      ],
      "execution_count": null,
      "outputs": []
    },
    {
      "cell_type": "code",
      "metadata": {
        "id": "lNFcY3suU0ev",
        "colab_type": "code",
        "colab": {}
      },
      "source": [
        "!git init\n",
        "!git remote add -f origin git@github.com:BitLorax/depth-prediction.git\n",
        "\n",
        "!git config core.sparseCheckout true\n",
        "!echo 'imgs' >> .git/info/sparse-checkout\n",
        "!echo 'deps' >> .git/info/sparse-checkout"
      ],
      "execution_count": null,
      "outputs": []
    },
    {
      "cell_type": "code",
      "metadata": {
        "id": "oL-euNJ5XVt-",
        "colab_type": "code",
        "colab": {}
      },
      "source": [
        "!git pull origin master"
      ],
      "execution_count": null,
      "outputs": []
    },
    {
      "cell_type": "markdown",
      "metadata": {
        "id": "oUtjWtfaz9wI",
        "colab_type": "text"
      },
      "source": [
        "# Data Generator"
      ]
    },
    {
      "cell_type": "code",
      "metadata": {
        "id": "HQ-Al26K35Ab",
        "colab_type": "code",
        "colab": {}
      },
      "source": [
        "M = 1449\n",
        "TRAIN_SPLIT = .9\n",
        "VAL_SPLIT = .05\n",
        "TEST_SPLIT = .05\n",
        "m = (int)(M * TRAIN_SPLIT)\n",
        "mv = m + (int)(M * VAL_SPLIT)\n",
        "mt = mv + (int)(M * TEST_SPLIT)\n",
        "\n",
        "BATCH_SIZE = 32\n",
        "\n",
        "width, height = 128, 128\n",
        "border = 8"
      ],
      "execution_count": null,
      "outputs": []
    },
    {
      "cell_type": "code",
      "metadata": {
        "id": "JEj173H50C9H",
        "colab_type": "code",
        "colab": {}
      },
      "source": [
        "class DataGenerator(tf.keras.utils.Sequence):\n",
        "  def __init__(self, listIDs, batchSize, dim, nChannels):\n",
        "    self.list_IDs = listIDs\n",
        "    self.batch_size = batchSize\n",
        "    self.dim = dim\n",
        "    self.n_channels = nChannels\n",
        "\n",
        "\n",
        "  def on_epoch_end(self):\n",
        "    np.random.shuffle(self.list_IDs)\n",
        "\n",
        "  \n",
        "  def __len__(self):\n",
        "    return int(np.floor(len(self.list_IDs) / self.batch_size))\n",
        "\n",
        "\n",
        "  def __getitem__(self, idx):\n",
        "    curIDs = self.list_IDs[idx*self.batch_size:(idx + 1)*self.batch_size]\n",
        "\n",
        "    X = np.empty((self.batch_size, *self.dim, self.n_channels))\n",
        "    y = np.empty((self.batch_size, *self.dim))\n",
        "\n",
        "    for i, ID in enumerate(curIDs):\n",
        "      img = np.load('imgs/img' + str(ID) + '.npy')\n",
        "      dep = np.load('deps/dep' + str(ID) + '.npy')\n",
        "\n",
        "      # take out white border\n",
        "      img = img[border:img.shape[0] - border, border:img.shape[1] - border]\n",
        "      dep = dep[border:dep.shape[0] - border, border:dep.shape[1] - border]\n",
        "\n",
        "      # downsize\n",
        "      scale = random.choice([.5, .55, .6])\n",
        "      img = cv2.resize(img, (0, 0), fx=scale, fy=scale)\n",
        "      dep = cv2.resize(dep, (0, 0), fx=scale, fy=scale)\n",
        "\n",
        "      # get random subsection of size 128 x 128\n",
        "      kx = random.randrange(0, img.shape[0] - width, 100)\n",
        "      ky = random.randrange(0, img.shape[1] - height, 100)\n",
        "      X[i,] = img[kx:kx + width, ky:ky + height, ...]\n",
        "      y[i,] = dep[kx:kx + width, ky:ky + height]\n",
        "\n",
        "      # flip image horizontally\n",
        "      if random.random() > .5:\n",
        "        X[i,] = np.flip(X[i,], 0)\n",
        "        y[i,] = np.flip(y[i,], 0)\n",
        "\n",
        "    return X, y"
      ],
      "execution_count": null,
      "outputs": []
    },
    {
      "cell_type": "code",
      "metadata": {
        "id": "ecu4b1UJ3O_t",
        "colab_type": "code",
        "colab": {}
      },
      "source": [
        "trainMult = 1\n",
        "valMult = 8\n",
        "testMult = 64\n",
        "\n",
        "trainGen = DataGenerator(np.repeat(np.arange(0, m), trainMult), BATCH_SIZE, (128, 128), 3)\n",
        "valGen = DataGenerator(np.repeat(np.arange(m, mv), valMult), BATCH_SIZE, (128, 128), 3)\n",
        "longValGen = DataGenerator(np.repeat(np.arange(m, mv), valMult * valMult), BATCH_SIZE, (128, 128), 3)\n",
        "testGen = DataGenerator(np.repeat(np.arange(mv, M), testMult), BATCH_SIZE, (128, 128), 3)\n",
        "\n",
        "m = m * trainMult\n",
        "mv = m + (int)(M * VAL_SPLIT) * valMult\n",
        "M = mv + (int)(M * TEST_SPLIT) * testMult"
      ],
      "execution_count": null,
      "outputs": []
    },
    {
      "cell_type": "markdown",
      "metadata": {
        "id": "-LOhvF6eXkdQ",
        "colab_type": "text"
      },
      "source": [
        "## Load Data (Backup)\n",
        "Use in case Data Generator breaks"
      ]
    },
    {
      "cell_type": "code",
      "metadata": {
        "id": "g635F2eUY-e7",
        "colab_type": "code",
        "colab": {}
      },
      "source": [
        "temp = np.load('nyuDepth/data0.npz')['images']\n",
        "width = temp.shape[1]\n",
        "height = temp.shape[2]\n",
        "\n",
        "images = np.empty((0, width, height, 3))\n",
        "depths = np.empty((0, width, height))"
      ],
      "execution_count": null,
      "outputs": []
    },
    {
      "cell_type": "code",
      "metadata": {
        "id": "qyUK0L8kzo53",
        "colab_type": "code",
        "colab": {}
      },
      "source": [
        "LOAD_START = 0\n",
        "LOAD_END = 108\n",
        "\n",
        "for i in range(LOAD_START, LOAD_END, 1):\n",
        "  data = np.load('nyuDepth/data' + str(i) + '.npz')\n",
        "  curImgs = data['images']\n",
        "  curDeps = data['depths']\n",
        "  images = np.concatenate((images, curImgs), axis=0)\n",
        "  depths = np.concatenate((depths, curDeps), axis=0)"
      ],
      "execution_count": null,
      "outputs": []
    },
    {
      "cell_type": "code",
      "metadata": {
        "id": "IUWUT2UrXQnJ",
        "colab_type": "code",
        "colab": {}
      },
      "source": [
        "m = images.shape[0]\n",
        "\n",
        "TRAINING_SPLIT = .9\n",
        "idx = (int)(TRAINING_SPLIT * m)\n",
        "imgTrain = images[:idx]\n",
        "depTrain = depths[:idx]\n",
        "imgTest = images[idx:]\n",
        "depTest = depths[idx:]"
      ],
      "execution_count": null,
      "outputs": []
    },
    {
      "cell_type": "code",
      "metadata": {
        "id": "cc_Sp0At1Rox",
        "colab_type": "code",
        "colab": {}
      },
      "source": [
        "def shuffle(images, depths):\n",
        "  random = np.arange(images.shape[0])\n",
        "  np.random.shuffle(random)\n",
        "  images = images[random]\n",
        "  depths = depths[random]\n",
        "  return images, depths"
      ],
      "execution_count": null,
      "outputs": []
    },
    {
      "cell_type": "code",
      "metadata": {
        "id": "i31ewb4xlugn",
        "colab_type": "code",
        "colab": {}
      },
      "source": [
        "imgTrain, depTrain = shuffle(imgTrain, depTrain)\n",
        "imgTest, depTest = shuffle(imgTest, depTest)"
      ],
      "execution_count": null,
      "outputs": []
    },
    {
      "cell_type": "code",
      "metadata": {
        "id": "9BGPo5IrX9bp",
        "colab_type": "code",
        "colab": {}
      },
      "source": [
        "print(images.shape)\n",
        "print(depths.shape)\n",
        "print()\n",
        "print(imgTrain.shape)\n",
        "print(depTrain.shape)\n",
        "print()\n",
        "print(imgTest.shape)\n",
        "print(depTest.shape)"
      ],
      "execution_count": null,
      "outputs": []
    },
    {
      "cell_type": "code",
      "metadata": {
        "id": "vjwNFTN7ZWDG",
        "colab_type": "code",
        "colab": {}
      },
      "source": [
        "train = tf.data.Dataset.from_tensor_slices((imgTrain, depTrain)).repeat()\n",
        "train = train.prefetch(buffer_size=tf.data.experimental.AUTOTUNE)\n",
        "test = tf.data.Dataset.from_tensor_slices((imgTest, depTest))"
      ],
      "execution_count": null,
      "outputs": []
    },
    {
      "cell_type": "code",
      "metadata": {
        "id": "4ixj4qAwZdvQ",
        "colab_type": "code",
        "colab": {}
      },
      "source": [
        "BATCH_SIZE = 64\n",
        "SHUFFLE_BUFFER_SIZE = 100\n",
        "\n",
        "train = train.shuffle(SHUFFLE_BUFFER_SIZE).batch(BATCH_SIZE)\n",
        "test = test.batch(BATCH_SIZE)"
      ],
      "execution_count": null,
      "outputs": []
    },
    {
      "cell_type": "markdown",
      "metadata": {
        "id": "FfWG9_cnyhin",
        "colab_type": "text"
      },
      "source": [
        "# Build Model"
      ]
    },
    {
      "cell_type": "code",
      "metadata": {
        "id": "iuuNpyOqARzK",
        "colab_type": "code",
        "colab": {}
      },
      "source": [
        "vgg16 = tf.keras.applications.VGG16(input_shape=(width, height, 3),\n",
        "                                    include_top=False,\n",
        "                                    weights='imagenet')\n",
        "\n",
        "xIn = tf.keras.Input(shape=(width, height, 3))\n",
        "\n",
        "# block 1    128 x 128 x 3 -> 64 x 64 x 64\n",
        "x = tf.keras.layers.Conv2D(64, 3, padding='same', activation='relu', name='block1_conv1')(xIn)\n",
        "out1 = tf.keras.layers.Conv2D(64, 3, padding='same', activation='relu', name='block1_conv2')\n",
        "x = tf.keras.layers.BatchNormalization()(x)\n",
        "x = out1(x)\n",
        "x = tf.keras.layers.MaxPool2D(name='block1_pool')(x)\n",
        "\n",
        "# block 2    64 x 64 x 64 -> 32 x 32 x 128\n",
        "x = tf.keras.layers.Conv2D(128, 3, padding='same', activation='relu', name='block2_conv1')(x)\n",
        "out2 = tf.keras.layers.Conv2D(128, 3, padding='same', activation='relu', name='block2_conv2')\n",
        "x = tf.keras.layers.BatchNormalization()(x)\n",
        "x = out2(x)\n",
        "x = tf.keras.layers.MaxPool2D(name='block2_pool')(x)\n",
        "\n",
        "# block 3    32 x 32 x 128 -> 16 x 16 x 256\n",
        "x = tf.keras.layers.Conv2D(256, 3, padding='same', activation='relu', name='block3_conv1')(x)\n",
        "x = tf.keras.layers.Conv2D(256, 3, padding='same', activation='relu', name='block3_conv2')(x)\n",
        "out3 = tf.keras.layers.Conv2D(256, 3, padding='same', activation='relu', name='block3_conv3')\n",
        "x = tf.keras.layers.BatchNormalization()(x)\n",
        "x = out3(x)\n",
        "x = tf.keras.layers.MaxPool2D(name='block3_pool')(x)\n",
        "\n",
        "# block 4    16 x 16 x 256 -> 8 x 8 x 512\n",
        "x = tf.keras.layers.Conv2D(512, 3, padding='same', activation='relu', name='block4_conv1')(x)\n",
        "x = tf.keras.layers.Conv2D(512, 3, padding='same', activation='relu', name='block4_conv2')(x)\n",
        "out4 = tf.keras.layers.Conv2D(512, 3, padding='same', activation='relu', name='block4_conv3')\n",
        "x = tf.keras.layers.BatchNormalization()(x)\n",
        "x = out4(x)\n",
        "x = tf.keras.layers.MaxPool2D(name='block4_pool')(x)\n",
        "\n",
        "# block 5    8 x 8 x 512 -> 4 x 4 x 512\n",
        "x = tf.keras.layers.Conv2D(512, 3, padding='same', activation='relu', name='block5_conv1')(x)\n",
        "x = tf.keras.layers.Conv2D(512, 3, padding='same', activation='relu', name='block5_conv2')(x)\n",
        "out5 = tf.keras.layers.Conv2D(512, 3, padding='same', activation='relu', name='block5_conv3')\n",
        "x = tf.keras.layers.BatchNormalization()(x)\n",
        "x = out5(x)\n",
        "x = tf.keras.layers.MaxPool2D(name='block5_pool')(x)\n",
        "\n",
        "downStack = tf.keras.Model(inputs=xIn, outputs=[out1.output, out2.output,\n",
        "                                                out3.output, out4.output,\n",
        "                                                out5.output, x])\n",
        "\n",
        "# load pretrained weights\n",
        "layerNames = [layer.name for layer in downStack.layers]\n",
        "vggLayerNames = [layer.name for layer in vgg16.layers]\n",
        "vggLayerNames.pop(0)\n",
        "\n",
        "for i, name in enumerate(vggLayerNames):\n",
        "  downStack.layers[layerNames.index(name)].set_weights(vgg16.layers[i + 1].get_weights())"
      ],
      "execution_count": null,
      "outputs": []
    },
    {
      "cell_type": "code",
      "metadata": {
        "id": "scWGmwPKH9Ma",
        "colab_type": "code",
        "colab": {}
      },
      "source": [
        "inputs = tf.keras.layers.Input(shape=(width, height, 3))\n",
        "x = inputs\n",
        "\n",
        "skips = downStack(x)\n",
        "x = skips[-1]\n",
        "skips = skips[:-1]\n",
        "\n",
        "# block 1\n",
        "x = tf.keras.layers.Conv2DTranspose(512, 3, strides=2, padding='same', activation='relu',\n",
        "                                    kernel_initializer=tf.keras.initializers.RandomUniform(0.0, 0.02),\n",
        "                                    use_bias=False)(x)\n",
        "x = tf.keras.layers.Conv2D(512, 3, padding='same', activation='relu')(x)\n",
        "x = tf.keras.layers.BatchNormalization()(x)\n",
        "x = tf.keras.layers.Concatenate()([x, skips[-1]])\n",
        "x = tf.keras.layers.Conv2D(1024, 3, padding='same', activation='relu')(x)\n",
        "x = tf.keras.layers.Conv2D(1024, 3, padding='same', activation='relu')(x)\n",
        "x = tf.keras.layers.Conv2D(1024, 3, padding='same', activation='relu')(x)\n",
        "x = tf.keras.layers.Conv2D(1024, 3, padding='same', activation='relu')(x)\n",
        "x = tf.keras.layers.Conv2D(1024, 3, padding='same', activation='relu')(x)\n",
        "\n",
        "# block 2\n",
        "x = tf.keras.layers.Conv2DTranspose(512, 3, strides=2, padding='same', activation='relu',\n",
        "                                    kernel_initializer=tf.keras.initializers.RandomUniform(0.0, 0.02),\n",
        "                                    use_bias=False)(x)\n",
        "x = tf.keras.layers.Conv2D(512, 3, padding='same', activation='relu')(x)\n",
        "x = tf.keras.layers.BatchNormalization()(x)\n",
        "x = tf.keras.layers.Concatenate()([x, skips[-2]])\n",
        "x = tf.keras.layers.Conv2D(1024, 3, padding='same', activation='relu')(x)\n",
        "x = tf.keras.layers.Conv2D(1024, 3, padding='same', activation='relu')(x)\n",
        "x = tf.keras.layers.Conv2D(1024, 3, padding='same', activation='relu')(x)\n",
        "x = tf.keras.layers.Conv2D(1024, 3, padding='same', activation='relu')(x)\n",
        "x = tf.keras.layers.Conv2D(1024, 3, padding='same', activation='relu')(x)\n",
        "\n",
        "# block 3\n",
        "x = tf.keras.layers.Conv2DTranspose(256, 3, strides=2, padding='same', activation='relu',\n",
        "                                    kernel_initializer=tf.keras.initializers.RandomUniform(0.0, 0.02),\n",
        "                                    use_bias=False)(x)\n",
        "x = tf.keras.layers.Conv2D(256, 3, padding='same', activation='relu')(x)\n",
        "x = tf.keras.layers.BatchNormalization()(x)\n",
        "x = tf.keras.layers.Concatenate()([x, skips[-3]])\n",
        "x = tf.keras.layers.Conv2D(512, 3, padding='same', activation='relu')(x)\n",
        "x = tf.keras.layers.Conv2D(512, 3, padding='same', activation='relu')(x)\n",
        "x = tf.keras.layers.Conv2D(512, 3, padding='same', activation='relu')(x)\n",
        "x = tf.keras.layers.Conv2D(512, 3, padding='same', activation='relu')(x)\n",
        "x = tf.keras.layers.Conv2D(512, 3, padding='same', activation='relu')(x)\n",
        "\n",
        "# block 4\n",
        "x = tf.keras.layers.Conv2DTranspose(128, 3, strides=2, padding='same', activation='relu',\n",
        "                                    kernel_initializer=tf.keras.initializers.RandomUniform(0.0, 0.02),\n",
        "                                    use_bias=False)(x)\n",
        "x = tf.keras.layers.Conv2D(128, 3, padding='same', activation='relu')(x)\n",
        "x = tf.keras.layers.BatchNormalization()(x)\n",
        "x = tf.keras.layers.Concatenate()([x, skips[-4]])\n",
        "x = tf.keras.layers.Conv2D(256, 3, padding='same', activation='relu')(x)\n",
        "x = tf.keras.layers.Conv2D(256, 3, padding='same', activation='relu')(x)\n",
        "x = tf.keras.layers.Conv2D(256, 3, padding='same', activation='relu')(x)\n",
        "x = tf.keras.layers.Conv2D(256, 3, padding='same', activation='relu')(x)\n",
        "x = tf.keras.layers.Conv2D(256, 3, padding='same', activation='relu')(x)\n",
        "\n",
        "# block 5\n",
        "x = tf.keras.layers.Conv2DTranspose(64, 3, strides=2, padding='same', activation='relu',\n",
        "                                    kernel_initializer=tf.keras.initializers.RandomUniform(0.0, 0.02),\n",
        "                                    use_bias=False)(x)\n",
        "x = tf.keras.layers.Conv2D(64, 3, padding='same', activation='relu')(x)\n",
        "x = tf.keras.layers.BatchNormalization()(x)\n",
        "x = tf.keras.layers.Concatenate()([x, skips[-5]])\n",
        "x = tf.keras.layers.Conv2D(128, 3, padding='same', activation='relu')(x)\n",
        "x = tf.keras.layers.Conv2D(128, 3, padding='same', activation='relu')(x)\n",
        "x = tf.keras.layers.Conv2D(128, 3, padding='same', activation='relu')(x)\n",
        "x = tf.keras.layers.Conv2D(128, 3, padding='same', activation='relu')(x)\n",
        "x = tf.keras.layers.Conv2D(128, 3, padding='same', activation='relu')(x)\n",
        "\n",
        "last = tf.keras.layers.Conv2D(1, 3, padding='same')\n",
        "x = last(x)\n",
        "\n",
        "model = tf.keras.Model(inputs=inputs, outputs=x)"
      ],
      "execution_count": null,
      "outputs": []
    },
    {
      "cell_type": "code",
      "metadata": {
        "id": "nw4-CXzrrPCZ",
        "colab_type": "code",
        "colab": {}
      },
      "source": [
        "class RelError(tf.keras.metrics.Metric):\n",
        "  def __init__(self, name='rel', **kwargs):\n",
        "    super(RelError, self).__init__(name=name, **kwargs)\n",
        "    self.rel_sum = self.add_weight(name='rs', initializer='zeros')\n",
        "    self.count = self.add_weight(name='ct', initializer='zeros')\n",
        "  \n",
        "  def update_state(self, y_true, y_pred, sample_weight=None):\n",
        "    y_pred = tf.cast(tf.reshape(y_pred, shape=(-1, 1)), 'float32')\n",
        "    y_true = tf.cast(tf.reshape(y_true, shape=(-1, 1)), 'float32')\n",
        "    rel = tf.math.divide_no_nan(tf.math.abs(tf.math.subtract(y_true, y_pred)), y_true)\n",
        "    self.rel_sum.assign_add(tf.math.divide_no_nan(tf.reduce_sum(rel), tf.constant(width * height, dtype='float32')))\n",
        "    self.count.assign_add(tf.constant(BATCH_SIZE, dtype='float32'))\n",
        "\n",
        "  def result(self):\n",
        "    return tf.math.divide_no_nan(self.rel_sum, self.count)\n",
        "\n",
        "  def reset_states(self):\n",
        "    self.rel_sum.assign(0.)\n",
        "    self.count.assign(0.)\n"
      ],
      "execution_count": null,
      "outputs": []
    },
    {
      "cell_type": "code",
      "metadata": {
        "id": "A1farCL_mNNi",
        "colab_type": "code",
        "colab": {}
      },
      "source": [
        "class LogError(tf.keras.metrics.Metric):\n",
        "    def __init__(self, name='log', **kwargs):\n",
        "      super(LogError, self).__init__(name=name, **kwargs)\n",
        "      self.log_sum = self.add_weight(name='ls', initializer='zeros')\n",
        "      self.count = self.add_weight(name='ct', initializer='zeros')\n",
        "    \n",
        "    def update_state(self, y_true, y_pred, sample_weight=None):\n",
        "      y_pred = tf.cast(tf.reshape(y_pred, shape=(-1, 1)), 'float32')\n",
        "      y_true = tf.cast(tf.reshape(y_true, shape=(-1, 1)), 'float32')\n",
        "      y_pred = tf.math.divide_no_nan(tf.math.log(y_pred), tf.math.log(tf.constant(10, dtype=y_pred.dtype)))\n",
        "      y_true = tf.math.divide_no_nan(tf.math.log(y_true), tf.math.log(tf.constant(10, dtype=y_true.dtype)))\n",
        "      diff = tf.math.abs(tf.math.subtract(y_pred, y_true))\n",
        "      self.log_sum.assign_add(tf.math.divide_no_nan(tf.reduce_sum(diff), tf.constant(width * height, dtype='float32')))\n",
        "      self.count.assign_add(tf.constant(BATCH_SIZE, dtype='float32'))\n",
        "\n",
        "    def result(self):\n",
        "      return tf.math.divide_no_nan(self.log_sum, self.count)\n",
        "\n",
        "    def reset_states(self):\n",
        "      self.log_sum.assign(0.)\n",
        "      self.count.assign(0.)"
      ],
      "execution_count": null,
      "outputs": []
    },
    {
      "cell_type": "code",
      "metadata": {
        "id": "64HWu7VuWx9Y",
        "colab_type": "code",
        "colab": {}
      },
      "source": [
        "class ThresAcc(tf.keras.metrics.Metric):\n",
        "  def __init__(self, pow, name='acc', **kwargs):\n",
        "    name = name + str(pow)\n",
        "    super(ThresAcc, self).__init__(name=name, **kwargs)\n",
        "    self.thres = tf.math.pow(tf.constant([1.25]), tf.constant([pow]))\n",
        "    self.acc_sum = self.add_weight(name='as', initializer='zeros')\n",
        "    self.count = self.add_weight(name='ct', initializer='zeros')\n",
        "\n",
        "  def update_state(self, y_true, y_pred, sample_weight=None):\n",
        "    y_pred = tf.cast(tf.reshape(y_pred, shape=(-1, 1)), 'float32')\n",
        "    y_true = tf.cast(tf.reshape(y_true, shape=(-1, 1)), 'float32')\n",
        "    ratio = tf.math.maximum(tf.math.divide(y_true, y_pred), tf.math.divide(y_pred, y_true))\n",
        "    mask = tf.math.less(ratio, self.thres)\n",
        "    self.acc_sum.assign_add(tf.reduce_sum(tf.cast(mask, 'float32')))\n",
        "    self.count.assign_add(tf.constant(BATCH_SIZE * width * height, dtype='float32'))\n",
        "  \n",
        "  def result(self):\n",
        "    return tf.math.divide_no_nan(self.acc_sum, self.count)\n",
        "\n",
        "  def reset_states(self):\n",
        "    self.acc_sum.assign(0.)\n",
        "    self.count.assign(0.)\n"
      ],
      "execution_count": null,
      "outputs": []
    },
    {
      "cell_type": "code",
      "metadata": {
        "id": "fsvQpUkHImvS",
        "colab_type": "code",
        "colab": {}
      },
      "source": [
        "model.compile(optimizer=tf.keras.optimizers.SGD(learning_rate=.005, momentum=.9),\n",
        "              loss=tf.keras.losses.Huber(),\n",
        "              metrics=[tf.keras.metrics.RootMeanSquaredError(name='rms'), RelError(), LogError(), ThresAcc(1.), ThresAcc(2.), ThresAcc(3.)])"
      ],
      "execution_count": null,
      "outputs": []
    },
    {
      "cell_type": "code",
      "metadata": {
        "id": "tQENwJr8lPV2",
        "colab_type": "code",
        "colab": {}
      },
      "source": [
        "tf.keras.utils.plot_model(model, show_shapes=True, expand_nested=True)"
      ],
      "execution_count": null,
      "outputs": []
    },
    {
      "cell_type": "markdown",
      "metadata": {
        "id": "ZPUHZuF0nU0S",
        "colab_type": "text"
      },
      "source": [
        "# Train Model"
      ]
    },
    {
      "cell_type": "code",
      "metadata": {
        "id": "wCGeeMibTm58",
        "colab_type": "code",
        "colab": {}
      },
      "source": [
        "loadName = input()\n",
        "if loadName != '':\n",
        "  model.load_weights(loadName + '/cp.ckpt')"
      ],
      "execution_count": null,
      "outputs": []
    },
    {
      "cell_type": "code",
      "metadata": {
        "colab_type": "code",
        "id": "-3XPC5rrljsr",
        "colab": {}
      },
      "source": [
        "!rm -r ./logs\n",
        "os.makedirs('./logs/fit')"
      ],
      "execution_count": null,
      "outputs": []
    },
    {
      "cell_type": "code",
      "metadata": {
        "id": "9s8lUne0nZBQ",
        "colab_type": "code",
        "colab": {}
      },
      "source": [
        "def display(dList):\n",
        "  fig = plt.figure()\n",
        "  for i in range(len(dList)):\n",
        "    plt.subplot(1, len(dList), i + 1)\n",
        "    dList[i] = np.swapaxes(dList[i], 0, 1)\n",
        "    plt.imshow(dList[i])\n",
        "    plt.axis('off')\n",
        "  divider = make_axes_locatable(plt.gca())\n",
        "  cax = divider.append_axes(\"right\", size=\"5%\", pad=0.05)\n",
        "  plt.colorbar(cax=cax)\n",
        "  plt.show()\n",
        "  return fig"
      ],
      "execution_count": null,
      "outputs": []
    },
    {
      "cell_type": "code",
      "metadata": {
        "id": "qpjqlgGVoNfG",
        "colab_type": "code",
        "colab": {}
      },
      "source": [
        "sampleImg = np.load('imgs/img' + (str)(1311) + '.npy')\n",
        "sampleDep = np.load('deps/dep' + (str)(1311) + '.npy')\n",
        "\n",
        "sampleImg = sampleImg[border:-border, border:-border, ...]\n",
        "sampleDep = sampleDep[border:-border, border:-border, ...]\n",
        "\n",
        "sampleImg = cv2.resize(sampleImg, (0, 0), fx=.6, fy = .6)\n",
        "sampleDep = cv2.resize(sampleDep, (0, 0), fx=.6, fy = .6)\n",
        "\n",
        "sampleImg = sampleImg[0:width, 0:height, ...]\n",
        "sampleDep = sampleDep[0:width, 0:height, ...]"
      ],
      "execution_count": null,
      "outputs": []
    },
    {
      "cell_type": "code",
      "metadata": {
        "id": "FntU0ySla5Jh",
        "colab_type": "code",
        "colab": {}
      },
      "source": [
        "def predict():\n",
        "  return display([sampleImg.astype('uint8'), sampleDep,\n",
        "                  model.predict(sampleImg[tf.newaxis, ...])[0, :, :, 0]])"
      ],
      "execution_count": null,
      "outputs": []
    },
    {
      "cell_type": "code",
      "metadata": {
        "id": "E4x6bJnDnsng",
        "colab_type": "code",
        "colab": {}
      },
      "source": [
        "class DisplayCallback(tf.keras.callbacks.Callback):\n",
        "  def on_epoch_end(self, epoch, logs=None):\n",
        "    clear_output(wait=True)\n",
        "    predict()"
      ],
      "execution_count": null,
      "outputs": []
    },
    {
      "cell_type": "code",
      "metadata": {
        "id": "q16DohgXa9vq",
        "colab_type": "code",
        "colab": {}
      },
      "source": [
        "name = input()\n",
        "if name != '':\n",
        "  ckptPath = name + '/cp.ckpt'\n",
        "else:\n",
        "  ckptPath = 'checkpoints/cp.ckpt'\n",
        "checkpointCallback = tf.keras.callbacks.ModelCheckpoint(ckptPath,\n",
        "                                     monitor='val_loss',\n",
        "                                     mode='min',\n",
        "                                     verbose=1,\n",
        "                                     save_freq='epoch',\n",
        "                                     save_weights_only=True,\n",
        "                                     save_best_only=True)"
      ],
      "execution_count": null,
      "outputs": []
    },
    {
      "cell_type": "code",
      "metadata": {
        "id": "K4Ouh6SRlcec",
        "colab_type": "code",
        "colab": {}
      },
      "source": [
        "if name != '':\n",
        "  logPath = 'logs/fit/' + name\n",
        "else:\n",
        "  logPath = 'logs/fit/' + datetime.datetime.now().strftime('%Y%m%d-%H%M%S')\n",
        "tensorboardCallback = tf.keras.callbacks.TensorBoard(log_dir=logPath, histogram_freq=1)"
      ],
      "execution_count": null,
      "outputs": []
    },
    {
      "cell_type": "code",
      "metadata": {
        "id": "Wy8jk7ezEwZ5",
        "colab_type": "code",
        "colab": {}
      },
      "source": [
        "reduceLR = tf.keras.callbacks.ReduceLROnPlateau(\n",
        "    monitor='val_loss', factor=.3, patience=5, min_lr=.0001)"
      ],
      "execution_count": null,
      "outputs": []
    },
    {
      "cell_type": "code",
      "metadata": {
        "id": "FZ0KI-fCpjVX",
        "colab_type": "code",
        "colab": {}
      },
      "source": [
        "EPOCHS = int(input())\n",
        "STEPS_PER_EPOCH = (m / BATCH_SIZE) - 1\n",
        "VAL_STEPS = ((mv - m) / BATCH_SIZE) - 1\n",
        "hist = model.fit(trainGen,\n",
        "                 epochs=EPOCHS,\n",
        "                 steps_per_epoch = STEPS_PER_EPOCH,\n",
        "                 validation_steps=VAL_STEPS,\n",
        "                 validation_data=valGen,\n",
        "                 callbacks=[reduceLR, DisplayCallback(), checkpointCallback, tensorboardCallback])"
      ],
      "execution_count": null,
      "outputs": []
    },
    {
      "cell_type": "markdown",
      "metadata": {
        "id": "EJYhBw62KIYI",
        "colab_type": "text"
      },
      "source": [
        "#Evaluate Model"
      ]
    },
    {
      "cell_type": "code",
      "metadata": {
        "id": "hdiuW0Ovpp8n",
        "colab_type": "code",
        "colab": {}
      },
      "source": [
        "%tensorboard --logdir logs/fit"
      ],
      "execution_count": null,
      "outputs": []
    },
    {
      "cell_type": "code",
      "metadata": {
        "id": "ByJYb0bYa-An",
        "colab_type": "code",
        "colab": {}
      },
      "source": [
        "valName = input()\n",
        "if valName != '':\n",
        "  model.load_weights(valName + '/cp.ckpt')\n",
        "else:\n",
        "  model.load_weights(name + '/cp.ckpt')\n",
        "\n",
        "res = model.evaluate(longValGen)"
      ],
      "execution_count": null,
      "outputs": []
    },
    {
      "cell_type": "code",
      "metadata": {
        "id": "rYYTgyvbt0WT",
        "colab_type": "code",
        "colab": {}
      },
      "source": [
        "predict();"
      ],
      "execution_count": null,
      "outputs": []
    },
    {
      "cell_type": "code",
      "metadata": {
        "id": "64kxJf4yq0-f",
        "colab_type": "code",
        "colab": {}
      },
      "source": [
        "testName = input()\n",
        "if testName != '':\n",
        "  model.load_weights(testName + '/cp.ckpt')\n",
        "else:\n",
        "  model.load_weights(name + '/cp.ckpt')\n",
        "\n",
        "res = model.evaluate(testGen)"
      ],
      "execution_count": null,
      "outputs": []
    },
    {
      "cell_type": "code",
      "metadata": {
        "id": "w7XarBNzqhy3",
        "colab_type": "code",
        "colab": {}
      },
      "source": [
        "for i in range(1377, 1449):\n",
        "  sampleImg = np.load('imgs/img' + (str)(i) + '.npy')\n",
        "  sampleDep = np.load('deps/dep' + (str)(i) + '.npy')\n",
        "  \n",
        "  sampleImg = sampleImg[border:-border, border:-border, ...]\n",
        "  sampleDep = sampleDep[border:-border, border:-border, ...]\n",
        "  \n",
        "  sampleImg = cv2.resize(sampleImg, (0, 0), fx=.5, fy = .5)\n",
        "  sampleDep = cv2.resize(sampleDep, (0, 0), fx=.5, fy = .5)\n",
        "  \n",
        "  sampleImg = sampleImg[0:width, 0:height, ...]\n",
        "  sampleDep = sampleDep[0:width, 0:height, ...]\n",
        "\n",
        "  predict();"
      ],
      "execution_count": null,
      "outputs": []
    },
    {
      "cell_type": "code",
      "metadata": {
        "id": "neF-MAeD_7O_",
        "colab_type": "code",
        "colab": {}
      },
      "source": [
        "!zip -r opt-100.zip opt-100"
      ],
      "execution_count": null,
      "outputs": []
    }
  ]
}