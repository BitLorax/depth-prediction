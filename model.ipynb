{
  "nbformat": 4,
  "nbformat_minor": 0,
  "metadata": {
    "colab": {
      "name": "model.ipynb",
      "provenance": [],
      "private_outputs": true,
      "authorship_tag": "ABX9TyP0oLjzWUo993Y4VdbOQfmL",
      "include_colab_link": true
    },
    "kernelspec": {
      "name": "python3",
      "display_name": "Python 3"
    }
  },
  "cells": [
    {
      "cell_type": "markdown",
      "metadata": {
        "id": "view-in-github",
        "colab_type": "text"
      },
      "source": [
        "<a href=\"https://colab.research.google.com/github/BitLorax/depth-prediction/blob/master/model.ipynb\" target=\"_parent\"><img src=\"https://colab.research.google.com/assets/colab-badge.svg\" alt=\"Open In Colab\"/></a>"
      ]
    },
    {
      "cell_type": "code",
      "metadata": {
        "id": "VfsZfZldWOTC",
        "colab_type": "code",
        "colab": {}
      },
      "source": [
        "!rm -r .git"
      ],
      "execution_count": 0,
      "outputs": []
    },
    {
      "cell_type": "code",
      "metadata": {
        "id": "lNFcY3suU0ev",
        "colab_type": "code",
        "colab": {}
      },
      "source": [
        "!git init\n",
        "!git remote add -f origin https://github.com/BitLorax/depth-prediction.git\n",
        "\n",
        "!git config core.sparseCheckout true\n",
        "!echo 'nyuDepth' >> .git/info/sparse-checkout"
      ],
      "execution_count": 0,
      "outputs": []
    },
    {
      "cell_type": "code",
      "metadata": {
        "id": "oL-euNJ5XVt-",
        "colab_type": "code",
        "colab": {}
      },
      "source": [
        "!git pull origin master"
      ],
      "execution_count": 0,
      "outputs": []
    },
    {
      "cell_type": "code",
      "metadata": {
        "id": "jl8q9JtYBmwu",
        "colab_type": "code",
        "colab": {}
      },
      "source": [
        "import tensorflow"
      ],
      "execution_count": 0,
      "outputs": []
    },
    {
      "cell_type": "code",
      "metadata": {
        "id": "y76dbpcY0mzI",
        "colab_type": "code",
        "colab": {}
      },
      "source": [
        "import numpy as np\n",
        "import matplotlib.pyplot as plt"
      ],
      "execution_count": 0,
      "outputs": []
    }
  ]
}